{
 "cells": [
  {
   "cell_type": "markdown",
   "metadata": {},
   "source": [
    "#### Fake Work"
   ]
  },
  {
   "cell_type": "code",
   "execution_count": 3,
   "metadata": {},
   "outputs": [],
   "source": [
    "import requests\n",
    "from config import weather_api_key\n",
    "from pprint import pprint"
   ]
  },
  {
   "cell_type": "code",
   "execution_count": 4,
   "metadata": {},
   "outputs": [],
   "source": [
    "url = f'http://api.openweathermap.org/data/2.5/weather?q=mahebourg&units=imperial&appid={weather_api_key}'"
   ]
  },
  {
   "cell_type": "code",
   "execution_count": 5,
   "metadata": {},
   "outputs": [
    {
     "name": "stdout",
     "output_type": "stream",
     "text": [
      "{'base': 'stations',\n",
      " 'clouds': {'all': 40},\n",
      " 'cod': 200,\n",
      " 'coord': {'lat': -20.41, 'lon': 57.7},\n",
      " 'dt': 1599941381,\n",
      " 'id': 934322,\n",
      " 'main': {'feels_like': 71.02,\n",
      "          'humidity': 88,\n",
      "          'pressure': 1022,\n",
      "          'temp': 69.8,\n",
      "          'temp_max': 69.8,\n",
      "          'temp_min': 69.8},\n",
      " 'name': 'Mahébourg',\n",
      " 'sys': {'country': 'MU',\n",
      "         'id': 2061,\n",
      "         'sunrise': 1599962829,\n",
      "         'sunset': 1600005796,\n",
      "         'type': 1},\n",
      " 'timezone': 14400,\n",
      " 'visibility': 10000,\n",
      " 'weather': [{'description': 'scattered clouds',\n",
      "              'icon': '03n',\n",
      "              'id': 802,\n",
      "              'main': 'Clouds'}],\n",
      " 'wind': {'deg': 150, 'speed': 8.05}}\n"
     ]
    }
   ],
   "source": [
    "response = requests.get(url)\n",
    "if response.ok:\n",
    "    response_json = response.json()\n",
    "    pprint(response_json)"
   ]
  },
  {
   "cell_type": "code",
   "execution_count": null,
   "metadata": {},
   "outputs": [],
   "source": []
  }
 ],
 "metadata": {
  "kernelspec": {
   "display_name": "Python 3",
   "language": "python",
   "name": "python3"
  },
  "language_info": {
   "codemirror_mode": {
    "name": "ipython",
    "version": 3
   },
   "file_extension": ".py",
   "mimetype": "text/x-python",
   "name": "python",
   "nbconvert_exporter": "python",
   "pygments_lexer": "ipython3",
   "version": "3.8.3"
  }
 },
 "nbformat": 4,
 "nbformat_minor": 4
}
